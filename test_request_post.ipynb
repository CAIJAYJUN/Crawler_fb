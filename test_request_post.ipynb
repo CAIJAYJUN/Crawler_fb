{
 "cells": [
  {
   "cell_type": "code",
   "execution_count": null,
   "metadata": {},
   "outputs": [],
   "source": [
    "from request_post import *\n",
    "import pandas as pd\n",
    "import pygsheets\n",
    "import threading\n",
    "import time\n",
    "import random"
   ]
  },
  {
   "cell_type": "code",
   "execution_count": null,
   "metadata": {},
   "outputs": [],
   "source": [
    "import configparser\n",
    "config = configparser.ConfigParser()\n",
    "config.read('./config.ini')\n",
    "email = config['fb_account']['email']\n",
    "passw = config['fb_account']['passw']\n"
   ]
  },
  {
   "cell_type": "code",
   "execution_count": null,
   "metadata": {},
   "outputs": [],
   "source": [
    "auth_file = \"./aqueous-flames-396208-687ba5889c5d.json\"\n",
    "gc = pygsheets.authorize(service_file = auth_file)\n",
    "sheet_url = \"https://docs.google.com/spreadsheets/d/1YfT73wC3EhEUt7vNMRN4gPNRbKlcSAs18gFfTq9hhGs/edit#gid=0\" "
   ]
  },
  {
   "cell_type": "code",
   "execution_count": null,
   "metadata": {},
   "outputs": [],
   "source": [
    "sheet = gc.open_by_url(sheet_url)\n",
    "sheet_test01 = sheet.worksheet_by_title(\"三千則文章\")"
   ]
  },
  {
   "cell_type": "code",
   "execution_count": null,
   "metadata": {},
   "outputs": [],
   "source": [
    "pre_urls = []\n",
    "for i in sheet_test01.get_all_records():\n",
    "    pre_urls.append(i['url'])"
   ]
  },
  {
   "cell_type": "code",
   "execution_count": null,
   "metadata": {},
   "outputs": [],
   "source": [
    "all_url = list(set(pre_urls+pd.read_csv(\"url_3000.csv\")['0'].unique().tolist()))"
   ]
  },
  {
   "cell_type": "code",
   "execution_count": null,
   "metadata": {},
   "outputs": [],
   "source": [
    "all_url_tot = []\n",
    "for i in all_url:\n",
    "    if 'https://mbasic.facebook.com/groups/1786425331505061/permalink' in i:\n",
    "        all_url_tot.append(i)"
   ]
  },
  {
   "cell_type": "code",
   "execution_count": null,
   "metadata": {},
   "outputs": [],
   "source": [
    "sheet_test01.update_value('A1', \"url\")\n",
    "sheet_test01.update_value('B1', \"user\")\n",
    "sheet_test01.update_value('C1', \"text\")\n",
    "sheet_test01.update_value('D1', \"img links\")\n",
    "sheet_test01.update_value('E1', \"blog title\")\n",
    "sheet_test01.update_value('F1', \"blog link\")\n",
    "sheet_test01.update_value('G1', \"comment\")\n",
    "sheet_test01.update_value('H1', \"datetime\")\n",
    "sheet_test01.update_value('I1', \"likes\")\n",
    "sheet_test01.update_value('J1', \"memo\")\n"
   ]
  },
  {
   "cell_type": "code",
   "execution_count": null,
   "metadata": {},
   "outputs": [],
   "source": [
    "# 設定新的\n",
    "\n",
    "main_driver = setDriver(email,passw,\"https://mbasic.facebook.com/groups/1786425331505061\")\n",
    "page_driver = setDriver(email,passw)"
   ]
  },
  {
   "cell_type": "code",
   "execution_count": null,
   "metadata": {},
   "outputs": [],
   "source": [
    "# 還沒爬的文章\n",
    "url_list = pd.read_csv(\"url_3000.csv\")['0'].unique().tolist()"
   ]
  },
  {
   "cell_type": "code",
   "execution_count": null,
   "metadata": {},
   "outputs": [],
   "source": [
    "\n",
    "result_list = []\n",
    "# assert(len(url_list) == count_pre_urls)\n",
    "def requestsMain(main_driver,url_list):\n",
    "    url_count = len(all_url_tot)\n",
    "    while url_count<=3000:\n",
    "        links = getLink(main_driver,email,passw)\n",
    "        if len(links)>0:\n",
    "            for l in links:\n",
    "                sl = getShortUrl(l)\n",
    "                if sl in all_url_tot:\n",
    "                    pass\n",
    "                else:\n",
    "                    url_list.append(sl)\n",
    "                    url_count+=1\n",
    "            # url_list = list(set(url_list))\n",
    "        else:\n",
    "            continue\n",
    "        \n",
    "        click_flag = False\n",
    "        while click_flag==False:\n",
    "            click_flag=clickNext(main_driver,email,passw)\n",
    "        print(\"click the new pages\")\n",
    "        if url_count%10 == 0:\n",
    "            saveUnprocessUrl(url_list)\n",
    "            \n",
    "def requestsContent(page_driver,url_list,result_list,need_result=3000,cur_point=1):\n",
    "    \n",
    "    while len(result_list)<=need_result-len(result_list):\n",
    "        if len(url_list)>0:\n",
    "            url = url_list.pop(0)\n",
    "            res = getContent(page_driver,url,email,passw)\n",
    "            # print(url)\n",
    "            # print(res)\n",
    "            result_list.append(res)\n",
    "            saveDataToSheet(url,res,len(result_list)+cur_point)\n",
    "            \n",
    "            \n",
    "            if len(result_list)%50 == 0:\n",
    "                saveDataToCsv(result_list)\n",
    "                saveUnprocessUrl(url_list)\n",
    "            time.sleep(random.uniform(1,3))\n",
    "            \n",
    "    print(\"finish crawlering\")\n",
    "        \n",
    "def saveDataToCsv(result_list):\n",
    "    pd.DataFrame(result_list).to_csv('result_3000.csv',index=False)\n",
    "def saveDataToSheet(url,data:dict,current_point):\n",
    "    sheet_test01.update_value('A'+str(current_point), url)\n",
    "    sheet_test01.update_value('B'+str(current_point), data['user_name'])\n",
    "    sheet_test01.update_value('C'+str(current_point), data['text'])\n",
    "    sheet_test01.update_value('D'+str(current_point), str(data['imgs']))\n",
    "    sheet_test01.update_value('E'+str(current_point), data['blog_title'])\n",
    "    sheet_test01.update_value('F'+str(current_point), data['blog_url'])\n",
    "    sheet_test01.update_value('G'+str(current_point), str(data['comment']))\n",
    "    sheet_test01.update_value('H'+str(current_point), data['timestamp'])\n",
    "    sheet_test01.update_value('I'+str(current_point), data['likes'])\n",
    "    sheet_test01.update_value('J'+str(current_point), data['memo'])\n",
    "    \n",
    "def saveUnprocessUrl(url_list):\n",
    "    pd.DataFrame(url_list).to_csv('url_3000.csv',index=False)"
   ]
  },
  {
   "cell_type": "code",
   "execution_count": null,
   "metadata": {},
   "outputs": [],
   "source": []
  },
  {
   "cell_type": "code",
   "execution_count": null,
   "metadata": {},
   "outputs": [],
   "source": [
    "t1 = threading.Thread(target=requestsMain,args=(main_driver,url_list,))\n",
    "t2 = threading.Thread(target=requestsContent,args=(page_driver,url_list,result_list))\n",
    "\n"
   ]
  },
  {
   "cell_type": "code",
   "execution_count": null,
   "metadata": {},
   "outputs": [],
   "source": [
    "t1.start()\n",
    "t2.start()"
   ]
  },
  {
   "cell_type": "code",
   "execution_count": null,
   "metadata": {},
   "outputs": [],
   "source": []
  }
 ],
 "metadata": {
  "interpreter": {
   "hash": "8666e6d12e4c22b701831bf18a65835aa1400957d7c0ab3769528d6286f72b3d"
  },
  "kernelspec": {
   "display_name": "Python 3.8.17 ('crawler')",
   "language": "python",
   "name": "python3"
  },
  "language_info": {
   "codemirror_mode": {
    "name": "ipython",
    "version": 3
   },
   "file_extension": ".py",
   "mimetype": "text/x-python",
   "name": "python",
   "nbconvert_exporter": "python",
   "pygments_lexer": "ipython3",
   "version": "3.8.17"
  },
  "orig_nbformat": 4
 },
 "nbformat": 4,
 "nbformat_minor": 2
}
